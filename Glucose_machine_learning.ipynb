{
  "nbformat": 4,
  "nbformat_minor": 0,
  "metadata": {
    "colab": {
      "name": "Glucose machine learning.ipynb",
      "provenance": [],
      "collapsed_sections": [],
      "authorship_tag": "ABX9TyM95gAVnfORx7O7ZmMZIx/d",
      "include_colab_link": true
    },
    "kernelspec": {
      "name": "python3",
      "display_name": "Python 3"
    },
    "language_info": {
      "name": "python"
    }
  },
  "cells": [
    {
      "cell_type": "markdown",
      "metadata": {
        "id": "view-in-github",
        "colab_type": "text"
      },
      "source": [
        "<a href=\"https://colab.research.google.com/github/alifele/Glucose-Instrument/blob/main/Glucose_machine_learning.ipynb\" target=\"_parent\"><img src=\"https://colab.research.google.com/assets/colab-badge.svg\" alt=\"Open In Colab\"/></a>"
      ]
    },
    {
      "cell_type": "code",
      "metadata": {
        "id": "Ir01Bbf1q0nQ"
      },
      "source": [
        "import numpy as np\n",
        "import matplotlib.pyplot as plt\n",
        "import pandas as pd\n",
        "import os"
      ],
      "execution_count": 53,
      "outputs": []
    },
    {
      "cell_type": "code",
      "metadata": {
        "colab": {
          "base_uri": "https://localhost:8080/"
        },
        "id": "tSnZZFUGrLyz",
        "outputId": "3a2c13d2-505d-4ae2-a66b-59d4fa984c63"
      },
      "source": [
        "from google.colab import drive\n",
        "drive.mount('/content/gdrive')\n",
        "%cd /content/gdrive/MyDrive/GlucoseTests\n",
        "%cd Mollaheydar\\ glucose\\ results"
      ],
      "execution_count": 54,
      "outputs": [
        {
          "output_type": "stream",
          "text": [
            "Drive already mounted at /content/gdrive; to attempt to forcibly remount, call drive.mount(\"/content/gdrive\", force_remount=True).\n",
            "/content/gdrive/.shortcut-targets-by-id/1s__9Ls68_9n0NYqKX9jJZLYu36kG8FOn/GlucoseTests\n",
            "/content/gdrive/.shortcut-targets-by-id/1s__9Ls68_9n0NYqKX9jJZLYu36kG8FOn/GlucoseTests/Mollaheydar glucose results\n"
          ],
          "name": "stdout"
        }
      ]
    },
    {
      "cell_type": "code",
      "metadata": {
        "colab": {
          "base_uri": "https://localhost:8080/"
        },
        "id": "VN8UuU9CwDxT",
        "outputId": "db8422bf-41c0-4ac8-c7da-938547dba8f8"
      },
      "source": [
        "!ls"
      ],
      "execution_count": 66,
      "outputs": [
        {
          "output_type": "stream",
          "text": [
            "Ahmad_1_02-02_after.json     Shahab_11_02-16_after.json\n",
            "Ahmad_1_02-02_after.png      Shahab_11_02-16_after.png\n",
            "Ahmad_1_02-02_before.json    Shahab_12_02-17_before.json\n",
            "Ahmad_1_02-02_before.png     Shahab_12_02-17_before.png\n",
            "Ahmad_2_02-10_after.json     Shahab_2_02-07_after.json\n",
            "Ahmad_2_02-10_after.png      Shahab_2_02-07_after.png\n",
            "Ahmad_2_02-10_before.json    Shahab_2_02-07_before.json\n",
            "Ahmad_2_02-10_before.png     Shahab_2_02-07_before.png\n",
            "Ahmad_3_02-11_before.json    Shahab_3_02-09_after.json\n",
            "Ahmad_3_02-11_before.png     Shahab_3_02-09_after.png\n",
            "Ahmad_4_02-14_after.json     Shahab_3_02-09_afterr.json\n",
            "Ahmad_4_02-14_after.png      Shahab_3_02-09_before.json\n",
            "Ahmad_5_02-14_before.json    Shahab_3_02-09_before.png\n",
            "Ahmad_5_02-14_before.png     Shahab_4_02-10_after.json\n",
            "Ahmad_5_02-15_before.json    Shahab_4_02-10_after.png\n",
            "Ahmad_5_02-15_before.png     Shahab_4_02-10_before.json\n",
            "Ahmad_6_02-15_before.json    Shahab_5_02-11_before.json\n",
            "Ahmad_6_02-15_before.png     Shahab_5_02-11_before.png\n",
            "Ahmad_7_02-16_before.json    Shahab_6_02-14_before.json\n",
            "Ahmad_7_02-16_before.png     Shahab_6_02-14_before.png\n",
            "Ahmad_8_02-17_before.json    Shahab_7_02-14_after.json\n",
            "Ahmad_8_02-17_before.png     Shahab_7_02-14_after.png\n",
            "Elahe_10_02-15_before.json   Shahab_7_02-14_before.json\n",
            "Elahe_10_02-15_before.png    Shahab_7_02-14_before.png\n",
            "Elahe_1_02-02_after.json     Shahab_8_02-15_after.json\n",
            "Elahe_1_02-02_after.png      Shahab_8_02-15_after.png\n",
            "Elahe_1_02-02_before.json    Shahab_8_02-15_before.json\n",
            "Elahe_1_02-02_before.png     Shahab_8_02-15_before.png\n",
            "Elahe_11_02-15_after.json    Shahab_9_02-15_before.json\n",
            "Elahe_11_02-15_after.png     Shahab_9_02-15_before.png\n",
            "Elahe_12_02-16_before.json   Shirin_10_02-15_before.json\n",
            "Elahe_12_02-16_before.png    Shirin_10_02-15_before.png\n",
            "Elahe_13_02-16_before.json   Shirin_1_02-09_after.json\n",
            "Elahe_13_02-16_before.png    Shirin_1_02-09_after.png\n",
            "Elahe_14_02-17_after.json    Shirin_1_02-09_before.json\n",
            "Elahe_14_02-17_after.png     Shirin_1_02-09_before.png\n",
            "Elahe_14_02-17_before.json   Shirin_11_02-16_before.json\n",
            "Elahe_14_02-17_before.png    Shirin_11_02-16_before.png\n",
            "Elahe_2_02-07_after.json     Shirin_12_02-16_after.json\n",
            "Elahe_2_02-07_after.png      Shirin_12_02-16_after.png\n",
            "Elahe_2_02-07_afterr.json    Shirin_12_02-16_before.json\n",
            "Elahe_2_02-07_afterr.png     Shirin_12_02-16_before.png\n",
            "Elahe_2_02-07_afterrr.json   Shirin_13_02-17_after.json\n",
            "Elahe_2_02-07_afterrr.png    Shirin_13_02-17_after.png\n",
            "Elahe_2_02-07-beforee.json   Shirin_13_02-17_before.json\n",
            "Elahe_2_02-07_beforee.png    Shirin_13_02-17_before.png\n",
            "Elahe_2_02-07-before.json    Shirin_14_02-17_after.json\n",
            "Elahe_2_02-07_before.png     Shirin_14_02-17_after.png\n",
            "Elahe_3_02-09_after.json     Shirin_2_02-10_after.json\n",
            "Elahe_3_02-09_after.png      Shirin_2_02-10_after.png\n",
            "Elahe_3_02-09_before.json    Shirin_2_02-10_before.json\n",
            "Elahe_3_02-09_before.png     Shirin_2_02-10_before.png\n",
            "Elahe_4_02-10_after.json     Shirin_3_02-11_after.json\n",
            "Elahe_4_02-10_after.png      Shirin_3_02-11_after.png\n",
            "Elahe_4_02-10_before.json    Shirin_3_02-11_before.png\n",
            "Elahe_4_02-10_before.png     Shirin_4_02-14_before.json\n",
            "Elahe_5_02-11_after.json     Shirin_4_02-14_before.png\n",
            "Elahe_5_02-11_after.png      Shirin_5_02-14_before.json\n",
            "Elahe_6_02-11_after.json     Shirin_5_02-14_before.png\n",
            "Elahe_6_02-11_after.png      Shirin_6_02-14_after.json\n",
            "Elahe_6_02-11_before.json    Shirin_6_02-14_after.png\n",
            "Elahe_6_02-11_before.png     Shirin_6_02-14_before.json\n",
            "Elahe_7_02-14_after.json     Shirin_6_02-14_before.png\n",
            "Elahe_7_02-14_after.png      Shirin_7_02-15_after.json\n",
            "Elahe_8_02-14_after.json     Shirin_7_02-15_after.png\n",
            "Elahe_8_02-14_after.png      Shirin_8_02-15_after.json\n",
            "Elahe_8_02-14_before.json    Shirin_8_02-15_after.png\n",
            "Elahe_8_02-14_before.png     Shirin_9_02-15_after.json\n",
            "Elahe_9_02-15_before.json    Shirin_9_02-15_after.png\n",
            "Elahe_9_02-15_before.png     Zahra_10_02-15_after.json\n",
            "Eli_1_02-11_after.json\t     Zahra_10_02-15_after.png\n",
            "Eli_1_02-11_after.png\t     Zahra_1_02-02_after.json\n",
            "Eli_1_02-11_before.json      Zahra_1_02-02_after.png\n",
            "Eli_1_02-11_before.png\t     Zahra_1_02-02_before.json\n",
            "Hosein_1_02-02_after.json    Zahra_1_02-02_before.png\n",
            "Hosein_1_02-02_after.png     Zahra_11_02-15_after.json\n",
            "Hosein_1_02-02_before.json   Zahra_11_02-15_after.png\n",
            "Hosein_1_02-02_before.png    Zahra_12_02-15_after.json\n",
            "Javad_1_02-16_after.json     Zahra_12_02-15_after.png\n",
            "Javad_1_02-16_after.png      Zahra_13_02-16_after.json\n",
            "Javad_2_02-17_before.json    Zahra_13_02-16_after.png\n",
            "Javad_2_02-17_before.png     Zahra_14_02-16_after.json\n",
            "Maryam_1_02-16_after.json    Zahra_14_02-16_after.png\n",
            "Maryam_1_02-16_after.png     Zahra_15_02-16_after.json\n",
            "Maryam_1_02-16_before.json   Zahra_15_02-16_after.png\n",
            "Maryam_1_02-16_before.png    Zahra_15_02-16_before.json\n",
            "Maryam_2_02-17_after.json    Zahra_15_02-16_before.png\n",
            "Maryam_2_02-17_after.png     Zahra_16_02-17_after.json\n",
            "Maryam_2_02-17_before.json   Zahra_16_02-17_after.png\n",
            "Maryam_2_02-17_before.png    Zahra_16_02-17_before.json\n",
            "Morteza_1_02-09_before.json  Zahra_16_02-17_before.png\n",
            "Morteza_1_02-09_before.png   Zahra_2_02-09_after.json\n",
            "Morteza_2_02-17_after.json   Zahra_2_02-09_after.png\n",
            "Morteza_2_02-17_after.png    Zahra_2_02-09_before.json\n",
            "Nahid_10_02-16_after.json    Zahra_2_02-09_before.png\n",
            "Nahid_10_02-16_after.png     Zahra_3_02-10_after.json\n",
            "Nahid_10_02-16_before.json   Zahra_3_02-10_after.png\n",
            "Nahid_10_02-16_before.png    Zahra_3_02-10_before.json\n",
            "Nahid_1_02-09_after.json     Zahra_3_02-10_before.png\n",
            "Nahid_1_02-09_after.png      Zahra_4_02-10_after.json\n",
            "Nahid_1_02-09_before.json    Zahra_4_02-10-after.json\n",
            "Nahid_1_02-09_before.png     Zahra_4_02-10_after.png\n",
            "Nahid_11_02-17_after.json    Zahra_4_02-10_before.json\n",
            "Nahid_11_02-17_after.png     Zahra_4_02-10_before.png\n",
            "Nahid_11_02-17_before.json   Zahra_5_02-11_after.json\n",
            "Nahid_11_02-17_before.png    Zahra_5_02-11_after.png\n",
            "Nahid_12_02-17_after.png     Zahra_5_02-11_before.json\n",
            "Nahid_12_02-17_.json\t     Zahra_5_02-11_before.png\n",
            "Nahid_13_02-17_after.json    Zahra_6_02-11_after.json\n",
            "Nahid_13_02-17_after.png     Zahra_6_02-11_after.png\n",
            "Nahid_14_02-17_after.json    Zahra_6_02-11_before.json\n",
            "Nahid_14_02-17_after.png     Zahra_6_02-11_before.png\n",
            "Nahid_2_02-10_before.json    Zahra_7_02-14_after.json\n",
            "Nahid_2_02-10_before.png     Zahra_7_02-14_after.png\n",
            "Nahid_3_02-10_after.png      Zahra_8_02-14_after.json\n",
            "Nahid_3_02-10_before.json    Zahra_8_02-14_after.png\n",
            "Nahid_4_02-10_after.json     Zahra_8_02-14_before.json\n",
            "Nahid_4_02-10_after.png      Zahra_8_02-14_before.png\n",
            "Nahid_4_02-10_before.json    Zahra_9_02-15_after.json\n",
            "Nahid_4_02-10_before.png     Zahra_9_02-15_after.png\n",
            "Nahid_5_02-11_before.json    Zari_1_02-16_after.json\n",
            "Nahid_5_02-11_before.png     Zari_1_02-16_after.png\n",
            "Nahid_6_02-11_after.json     Zari_2_02-17_after.json\n",
            "Nahid_6_02-11_after.png      Zari_2_02-17_after.png\n",
            "Nahid_6_02-11_before.json    Zari_2_02-17_before.json\n",
            "Nahid_6_02-11_before.png     Zari_2_02-17_before.png\n",
            "Nahid_7_02-14_after.json     Zohre_1_02-10_after.json\n",
            "Nahid_7_02-14_after.png      Zohre_1_02-10_after.png\n",
            "Nahid_7_02-14_before.json    Zohre_1_02-10_before.json\n",
            "Nahid_7_02-14_before.png     Zohre_1_02-10_before.png\n",
            "Nahid_8_02-15_after.json     Zohre_2_02-10_after.json\n",
            "Nahid_8_02-15_after.png      Zohre_2_02-10_after.png\n",
            "Nahid_9_02-16_after.json     Zohre_2_02-10_before.json\n",
            "Nahid_9_02-16_after.png      Zohre_2_02-10_before.png\n",
            "Shahab_10_02-16_after.json   Zohre_3_02-11_after.json\n",
            "Shahab_10_02-16_after.png    Zohre_3_02-11_after.png\n",
            "Shahab_10_02-16_before.json  Zohre_3_02-11_before.json\n",
            "Shahab_10_02-16_before.png   Zohre_3_02-11_before.png\n",
            "Shahab_1_02-02_after.json    Zohre_4_02-11_after.json\n",
            "Shahab_1_02-02_after.png     Zohre_4_02-11_after.png\n",
            "Shahab_1_02-02_before.json   Zohre_4_02-11_before.json\n",
            "Shahab_1_02-02_before.png    Zohre_4_02-11_before.png\n"
          ],
          "name": "stdout"
        }
      ]
    },
    {
      "cell_type": "code",
      "metadata": {
        "id": "ZF3PZmCrrw-e"
      },
      "source": [
        "df = pd.read_json(\"Ahmad_1_02-02_after.json\")"
      ],
      "execution_count": 67,
      "outputs": []
    },
    {
      "cell_type": "code",
      "metadata": {
        "colab": {
          "base_uri": "https://localhost:8080/",
          "height": 204
        },
        "id": "OcwiE_F0rOyz",
        "outputId": "ccb2774a-89ac-4e83-f816-13f8d07483f3"
      },
      "source": [
        "df.head()"
      ],
      "execution_count": 68,
      "outputs": [
        {
          "output_type": "execute_result",
          "data": {
            "text/html": [
              "<div>\n",
              "<style scoped>\n",
              "    .dataframe tbody tr th:only-of-type {\n",
              "        vertical-align: middle;\n",
              "    }\n",
              "\n",
              "    .dataframe tbody tr th {\n",
              "        vertical-align: top;\n",
              "    }\n",
              "\n",
              "    .dataframe thead th {\n",
              "        text-align: right;\n",
              "    }\n",
              "</style>\n",
              "<table border=\"1\" class=\"dataframe\">\n",
              "  <thead>\n",
              "    <tr style=\"text-align: right;\">\n",
              "      <th></th>\n",
              "      <th>name</th>\n",
              "      <th>phone</th>\n",
              "      <th>GlucoseVal</th>\n",
              "      <th>red\\r\\n</th>\n",
              "      <th>blue\\r\\n</th>\n",
              "      <th>white\\r\\n</th>\n",
              "      <th>pink\\r\\n</th>\n",
              "      <th>orange\\r\\n</th>\n",
              "    </tr>\n",
              "  </thead>\n",
              "  <tbody>\n",
              "    <tr>\n",
              "      <th>0</th>\n",
              "      <td>Ahmad_1_02-02_after</td>\n",
              "      <td>1653</td>\n",
              "      <td>126</td>\n",
              "      <td>151</td>\n",
              "      <td>112</td>\n",
              "      <td>554</td>\n",
              "      <td>875</td>\n",
              "      <td>131</td>\n",
              "    </tr>\n",
              "    <tr>\n",
              "      <th>1</th>\n",
              "      <td>Ahmad_1_02-02_after</td>\n",
              "      <td>1653</td>\n",
              "      <td>126</td>\n",
              "      <td>171</td>\n",
              "      <td>109</td>\n",
              "      <td>556</td>\n",
              "      <td>869</td>\n",
              "      <td>134</td>\n",
              "    </tr>\n",
              "    <tr>\n",
              "      <th>2</th>\n",
              "      <td>Ahmad_1_02-02_after</td>\n",
              "      <td>1653</td>\n",
              "      <td>126</td>\n",
              "      <td>171</td>\n",
              "      <td>111</td>\n",
              "      <td>553</td>\n",
              "      <td>865</td>\n",
              "      <td>133</td>\n",
              "    </tr>\n",
              "    <tr>\n",
              "      <th>3</th>\n",
              "      <td>Ahmad_1_02-02_after</td>\n",
              "      <td>1653</td>\n",
              "      <td>126</td>\n",
              "      <td>173</td>\n",
              "      <td>114</td>\n",
              "      <td>553</td>\n",
              "      <td>867</td>\n",
              "      <td>133</td>\n",
              "    </tr>\n",
              "    <tr>\n",
              "      <th>4</th>\n",
              "      <td>Ahmad_1_02-02_after</td>\n",
              "      <td>1653</td>\n",
              "      <td>126</td>\n",
              "      <td>176</td>\n",
              "      <td>111</td>\n",
              "      <td>556</td>\n",
              "      <td>870</td>\n",
              "      <td>132</td>\n",
              "    </tr>\n",
              "  </tbody>\n",
              "</table>\n",
              "</div>"
            ],
            "text/plain": [
              "                  name  phone  GlucoseVal  ...  white\\r\\n  pink\\r\\n  orange\\r\\n\n",
              "0  Ahmad_1_02-02_after   1653         126  ...        554       875         131\n",
              "1  Ahmad_1_02-02_after   1653         126  ...        556       869         134\n",
              "2  Ahmad_1_02-02_after   1653         126  ...        553       865         133\n",
              "3  Ahmad_1_02-02_after   1653         126  ...        553       867         133\n",
              "4  Ahmad_1_02-02_after   1653         126  ...        556       870         132\n",
              "\n",
              "[5 rows x 8 columns]"
            ]
          },
          "metadata": {
            "tags": []
          },
          "execution_count": 68
        }
      ]
    },
    {
      "cell_type": "code",
      "metadata": {
        "colab": {
          "base_uri": "https://localhost:8080/",
          "height": 265
        },
        "id": "H_BXtgxtr9DS",
        "outputId": "d7a3d1b6-946a-4f67-a4c7-3ffb7ab67072"
      },
      "source": [
        "colors = [\"red\\r\\n\",\"blue\\r\\n\",\"white\\r\\n\",\"pink\\r\\n\",\"orange\\r\\n\"]\n",
        "for elem in colors:\n",
        "  df[elem].plot()"
      ],
      "execution_count": 59,
      "outputs": [
        {
          "output_type": "display_data",
          "data": {
            "image/png": "[encoded data removed]",
            "text/plain": [
              "<Figure size 432x288 with 1 Axes>"
            ]
          },
          "metadata": {
            "tags": [],
            "needs_background": "light"
          }
        }
      ]
    },
    {
      "cell_type": "markdown",
      "metadata": {
        "id": "RnLAkvtsu7vt"
      },
      "source": [
        "#Feature extraction\n",
        "Dataframe format:\n",
        "```python\n",
        "[red_mean, blue_mean, white_mean, pink_mean, orange_mean, red_std, blue_std, white_std, pink_std, orange_std, gvalue]\n",
        "```\n"
      ]
    },
    {
      "cell_type": "code",
      "metadata": {
        "colab": {
          "base_uri": "https://localhost:8080/"
        },
        "id": "npaikOLS0PuW",
        "outputId": "17cb5eb0-abda-4fa1-eea0-f6b0181c9bf9"
      },
      "source": [
        "colors = [\"red\\r\\n\",\"blue\\r\\n\",\"white\\r\\n\",\"pink\\r\\n\",\"orange\\r\\n\"]\n",
        "DATA_regression = []\n",
        "for elem in os.listdir():\n",
        "  if \"json\" in elem:\n",
        "    print(elem)\n",
        "    df = pd.read_json(elem)\n",
        "    data = []\n",
        "    for color in colors:\n",
        "      data.append(df[color].mean())\n",
        "    for color in colors:\n",
        "      data.append(df[color].std())\n",
        "    data.append(df['GlucoseVal'].mean())\n",
        "    DATA_regression.append(data)\n"
      ],
      "execution_count": 77,
      "outputs": [
        {
          "output_type": "stream",
          "text": [
            "Zahra_1_02-02_before.json\n",
            "Ahmad_1_02-02_before.json\n",
            "Elahe_1_02-02_before.json\n",
            "Hosein_1_02-02_before.json\n",
            "Shahab_1_02-02_before.json\n",
            "Hosein_1_02-02_after.json\n",
            "Zahra_1_02-02_after.json\n",
            "Ahmad_1_02-02_after.json\n",
            "Shahab_1_02-02_after.json\n",
            "Elahe_1_02-02_after.json\n",
            "Shahab_2_02-07_before.json\n",
            "Elahe_2_02-07-before.json\n",
            "Elahe_2_02-07-beforee.json\n",
            "Elahe_2_02-07_after.json\n",
            "Elahe_2_02-07_afterr.json\n",
            "Elahe_2_02-07_afterrr.json\n",
            "Shahab_2_02-07_after.json\n",
            "Nahid_1_02-09_before.json\n",
            "Shirin_1_02-09_before.json\n",
            "Zahra_2_02-09_before.json\n",
            "Shahab_3_02-09_before.json\n",
            "Morteza_1_02-09_before.json\n",
            "Elahe_3_02-09_before.json\n",
            "Shirin_1_02-09_after.json\n",
            "Shahab_3_02-09_after.json\n",
            "Shahab_3_02-09_afterr.json\n",
            "Nahid_1_02-09_after.json\n",
            "Zahra_2_02-09_after.json\n",
            "Elahe_3_02-09_after.json\n",
            "Zahra_3_02-10_before.json\n",
            "Zohre_1_02-10_before.json\n",
            "Nahid_2_02-10_before.json\n",
            "Zahra_3_02-10_after.json\n",
            "Zohre_1_02-10_after.json\n",
            "Nahid_3_02-10_before.json\n",
            "Elahe_4_02-10_before.json\n",
            "Shahab_4_02-10_before.json\n",
            "Shirin_2_02-10_before.json\n",
            "Nahid_4_02-10_before.json\n",
            "Zohre_2_02-10_before.json\n",
            "Zahra_4_02-10_before.json\n",
            "Ahmad_2_02-10_before.json\n",
            "Zahra_4_02-10-after.json\n",
            "Zahra_4_02-10_after.json\n",
            "Shahab_4_02-10_after.json\n",
            "Shirin_2_02-10_after.json\n",
            "Nahid_4_02-10_after.json\n",
            "Zohre_2_02-10_after.json\n",
            "Ahmad_2_02-10_after.json\n",
            "Elahe_4_02-10_after.json\n",
            "Zahra_5_02-11_before.json\n",
            "Nahid_5_02-11_before.json\n",
            "Zohre_3_02-11_before.json\n",
            "Zahra_5_02-11_after.json\n",
            "Zohre_3_02-11_after.json\n",
            "Elahe_5_02-11_after.json\n",
            "Ahmad_3_02-11_before.json\n",
            "Eli_1_02-11_before.json\n",
            "Zahra_6_02-11_after.json\n",
            "Zohre_4_02-11_after.json\n",
            "Nahid_6_02-11_after.json\n",
            "Shahab_5_02-11_before.json\n",
            "Elahe_6_02-11_after.json\n",
            "Eli_1_02-11_after.json\n",
            "Zahra_6_02-11_before.json\n",
            "Zohre_4_02-11_before.json\n",
            "Elahe_6_02-11_before.json\n",
            "Nahid_6_02-11_before.json\n",
            "Shirin_3_02-11_after.json\n",
            "Shirin_4_02-14_before.json\n",
            "Ahmad_4_02-14_after.json\n",
            "Elahe_7_02-14_after.json\n",
            "Zahra_7_02-14_after.json\n",
            "Shirin_6_02-14_before.json\n",
            "Nahid_7_02-14_after.json\n",
            "Zahra_8_02-14_after.json\n",
            "Shirin_6_02-14_after.json\n",
            "Elahe_8_02-14_after.json\n",
            "Shahab_7_02-14_after.json\n",
            "Ahmad_5_02-14_before.json\n",
            "Zahra_8_02-14_before.json\n",
            "Shirin_5_02-14_before.json\n",
            "Elahe_8_02-14_before.json\n",
            "Nahid_7_02-14_before.json\n",
            "Shahab_7_02-14_before.json\n",
            "Shirin_7_02-15_after.json\n",
            "Elahe_9_02-15_before.json\n",
            "Zahra_9_02-15_after.json\n",
            "Shirin_8_02-15_after.json\n",
            "Shahab_8_02-15_before.json\n",
            "Zahra_10_02-15_after.json\n",
            "Elahe_10_02-15_before.json\n",
            "Ahmad_5_02-15_before.json\n",
            "Shahab_8_02-15_after.json\n",
            "Shirin_9_02-15_after.json\n",
            "Zahra_11_02-15_after.json\n",
            "Shirin_10_02-15_before.json\n",
            "Nahid_8_02-15_after.json\n",
            "Elahe_11_02-15_after.json\n",
            "Zahra_12_02-15_after.json\n",
            "Ahmad_6_02-15_before.json\n",
            "Shahab_9_02-15_before.json\n",
            "Shahab_10_02-16_before.json\n",
            "Zahra_13_02-16_after.json\n",
            "Nahid_9_02-16_after.json\n",
            "Elahe_12_02-16_before.json\n",
            "Ahmad_7_02-16_before.json\n",
            "Shirin_11_02-16_before.json\n",
            "Zahra_14_02-16_after.json\n",
            "Maryam_1_02-16_before.json\n",
            "Zahra_15_02-16_before.json\n",
            "Shahab_10_02-16_after.json\n",
            "Elahe_13_02-16_before.json\n",
            "Nahid_10_02-16_before.json\n",
            "Shirin_12_02-16_before.json\n",
            "Zari_1_02-16_after.json\n",
            "Maryam_1_02-16_after.json\n",
            "Zahra_15_02-16_after.json\n",
            "Nahid_10_02-16_after.json\n",
            "Shahab_11_02-16_after.json\n",
            "Javad_1_02-16_after.json\n",
            "Shirin_12_02-16_after.json\n",
            "Zahra_16_02-17_before.json\n",
            "Javad_2_02-17_before.json\n",
            "Elahe_14_02-17_before.json\n",
            "Nahid_11_02-17_before.json\n",
            "Zari_2_02-17_before.json\n",
            "Maryam_2_02-17_before.json\n",
            "Shirin_13_02-17_before.json\n",
            "Shahab_12_02-17_before.json\n",
            "Zahra_16_02-17_after.json\n",
            "Zari_2_02-17_after.json\n",
            "Shirin_13_02-17_after.json\n",
            "Elahe_14_02-17_after.json\n",
            "Maryam_2_02-17_after.json\n",
            "Nahid_11_02-17_after.json\n",
            "Ahmad_8_02-17_before.json\n",
            "Nahid_12_02-17_.json\n",
            "Morteza_2_02-17_after.json\n",
            "Nahid_13_02-17_after.json\n",
            "Shirin_14_02-17_after.json\n",
            "Nahid_14_02-17_after.json\n",
            "Shahab_6_02-14_before.json\n"
          ],
          "name": "stdout"
        }
      ]
    },
    {
      "cell_type": "code",
      "metadata": {
        "id": "W8X02Nir10wy"
      },
      "source": [
        "colors = [\"red\\r\\n\",\"blue\\r\\n\",\"white\\r\\n\",\"pink\\r\\n\",\"orange\\r\\n\"]\n",
        "DATA_class= []\n",
        "for elem in os.listdir():\n",
        "  if \"json\" in elem:\n",
        "    #print(elem)\n",
        "    df = pd.read_json(elem)\n",
        "    data = []\n",
        "    for color in colors:\n",
        "      data.append(df[color].mean())\n",
        "    for color in colors:\n",
        "      data.append(df[color].std())\n",
        "    gval = df['GlucoseVal'].mean() \n",
        "    # low --> 1, med -->2, high --> 3\n",
        "    #print(gval)\n",
        "    if (gval <100):\n",
        "      status = 1\n",
        "    elif (gval >120):\n",
        "      status = 3\n",
        "    else:\n",
        "      status = 2\n",
        "\n",
        "    data.append(status)\n",
        "    DATA_class.append(data)\n"
      ],
      "execution_count": 112,
      "outputs": []
    },
    {
      "cell_type": "code",
      "metadata": {
        "id": "QIuOZRaRs9sc"
      },
      "source": [
        ""
      ],
      "execution_count": 112,
      "outputs": []
    },
    {
      "cell_type": "code",
      "metadata": {
        "id": "qSyYrWvwu0QS"
      },
      "source": [
        ""
      ],
      "execution_count": 112,
      "outputs": []
    },
    {
      "cell_type": "markdown",
      "metadata": {
        "id": "xP90j89l-qv0"
      },
      "source": [
        "# Model Training\n",
        "## Support Vector Machine (SVM)"
      ]
    },
    {
      "cell_type": "code",
      "metadata": {
        "id": "-RBxXgQq0HKg"
      },
      "source": [
        "from sklearn.svm import SVC\n",
        "from sklearn.model_selection import train_test_split\n",
        "from sklearn.metrics import confusion_matrix"
      ],
      "execution_count": 113,
      "outputs": []
    },
    {
      "cell_type": "markdown",
      "metadata": {
        "id": "Tc25DLqB_EQq"
      },
      "source": [
        "spliting features and labels"
      ]
    },
    {
      "cell_type": "code",
      "metadata": {
        "id": "6CeUzIOs_DvI"
      },
      "source": [
        "DATA_class = np.array(DATA_class)\n",
        "X = DATA_class[:,:-1]\n",
        "y = DATA_class[:,-1]\n",
        "\n",
        "x_train, x_test, y_train, y_test = train_test_split(X,y)"
      ],
      "execution_count": 114,
      "outputs": []
    },
    {
      "cell_type": "code",
      "metadata": {
        "colab": {
          "base_uri": "https://localhost:8080/"
        },
        "id": "dfkrr7iG0j6J",
        "outputId": "92c2055a-b31a-4ddb-ab44-65202fbdd68b"
      },
      "source": [
        "svm_clf = SVC()\n",
        "svm_clf.fit(x_train, y_train)"
      ],
      "execution_count": 117,
      "outputs": [
        {
          "output_type": "execute_result",
          "data": {
            "text/plain": [
              "SVC(C=1.0, break_ties=False, cache_size=200, class_weight=None, coef0=0.0,\n",
              "    decision_function_shape='ovr', degree=3, gamma='scale', kernel='rbf',\n",
              "    max_iter=-1, probability=False, random_state=None, shrinking=True,\n",
              "    tol=0.001, verbose=False)"
            ]
          },
          "metadata": {
            "tags": []
          },
          "execution_count": 117
        }
      ]
    },
    {
      "cell_type": "code",
      "metadata": {
        "colab": {
          "base_uri": "https://localhost:8080/"
        },
        "id": "biSm8tEJ1pif",
        "outputId": "8c516df9-118a-497e-cd3a-45c01a688e6c"
      },
      "source": [
        "predict = svm_clf.predict(x_test)\n",
        "predict"
      ],
      "execution_count": 118,
      "outputs": [
        {
          "output_type": "execute_result",
          "data": {
            "text/plain": [
              "array([3., 3., 3., 3., 3., 3., 3., 3., 3., 3., 3., 3., 3., 3., 3., 3., 3.,\n",
              "       3., 3., 3., 3., 3., 3., 3., 3., 3., 3., 3., 3., 3., 3., 3., 3., 3.,\n",
              "       3., 3.])"
            ]
          },
          "metadata": {
            "tags": []
          },
          "execution_count": 118
        }
      ]
    },
    {
      "cell_type": "code",
      "metadata": {
        "colab": {
          "base_uri": "https://localhost:8080/"
        },
        "id": "36ncYCUe3iyN",
        "outputId": "1d50fe9e-559d-4148-847b-b79643397223"
      },
      "source": [
        "y_test"
      ],
      "execution_count": 119,
      "outputs": [
        {
          "output_type": "execute_result",
          "data": {
            "text/plain": [
              "array([3., 3., 2., 3., 2., 2., 2., 3., 3., 2., 1., 2., 3., 3., 3., 3., 2.,\n",
              "       3., 3., 2., 2., 3., 2., 3., 2., 3., 3., 3., 1., 2., 1., 2., 3., 2.,\n",
              "       2., 3.])"
            ]
          },
          "metadata": {
            "tags": []
          },
          "execution_count": 119
        }
      ]
    },
    {
      "cell_type": "code",
      "metadata": {
        "colab": {
          "base_uri": "https://localhost:8080/"
        },
        "id": "mqLyT4SW3nnO",
        "outputId": "ea5ba8a5-19a9-441f-9164-99b8fa649881"
      },
      "source": [
        "confusion_matrix(y_test, predict)"
      ],
      "execution_count": 120,
      "outputs": [
        {
          "output_type": "execute_result",
          "data": {
            "text/plain": [
              "array([[ 0,  0,  3],\n",
              "       [ 0,  0, 15],\n",
              "       [ 0,  0, 18]])"
            ]
          },
          "metadata": {
            "tags": []
          },
          "execution_count": 120
        }
      ]
    },
    {
      "cell_type": "code",
      "metadata": {
        "id": "p-5q1QxTAzU9"
      },
      "source": [
        ""
      ],
      "execution_count": 121,
      "outputs": []
    },
    {
      "cell_type": "code",
      "metadata": {
        "colab": {
          "base_uri": "https://localhost:8080/"
        },
        "id": "Oevg2fbHBUgD",
        "outputId": "5e5b1b05-3911-4e05-b6f4-1f69ae96467b"
      },
      "source": [
        "len(y)"
      ],
      "execution_count": 122,
      "outputs": [
        {
          "output_type": "execute_result",
          "data": {
            "text/plain": [
              "143"
            ]
          },
          "metadata": {
            "tags": []
          },
          "execution_count": 122
        }
      ]
    },
    {
      "cell_type": "code",
      "metadata": {
        "id": "UNUYM3U0Cnpc"
      },
      "source": [
        ""
      ],
      "execution_count": null,
      "outputs": []
    }
  ]
}